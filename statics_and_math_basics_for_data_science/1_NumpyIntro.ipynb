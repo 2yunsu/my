{
 "cells": [
  {
   "cell_type": "markdown",
   "metadata": {
    "pycharm": {
     "name": "#%% md\n"
    }
   },
   "source": [
    "## Python code examples\n",
    "### Numpy basic\n",
    "\n",
    "#### Numpy is a python library for array and matrices. In this note, we will cover very basics of numpy."
   ]
  },
  {
   "cell_type": "code",
   "execution_count": 1,
   "metadata": {
    "ExecuteTime": {
     "end_time": "2021-01-29T04:54:50.877431Z",
     "start_time": "2021-01-29T04:54:50.865943Z"
    },
    "pycharm": {
     "name": "#%%\n"
    }
   },
   "outputs": [
    {
     "name": "stdout",
     "output_type": "stream",
     "text": [
      "x has dimensions: (2, 5)\n",
      "x is an object of type: <class 'numpy.ndarray'>\n",
      "[[1 2 3 4 5]\n",
      " [1 2 3 4 5]]\n"
     ]
    }
   ],
   "source": [
    "import numpy as np\n",
    "\n",
    "x = np.array([[1, 2, 3, 4 ,5], [1, 2, 3, 4, 5]])\n",
    "\n",
    "print('x has dimensions:', x.shape)\n",
    "print('x is an object of type:', type(x))\n",
    "\n",
    "print(x)"
   ]
  },
  {
   "cell_type": "code",
   "execution_count": 2,
   "metadata": {
    "ExecuteTime": {
     "end_time": "2021-01-29T04:36:55.415866Z",
     "start_time": "2021-01-29T04:36:55.408516Z"
    },
    "pycharm": {
     "name": "#%%\n"
    }
   },
   "outputs": [
    {
     "name": "stdout",
     "output_type": "stream",
     "text": [
      "[ 0  1  2  3  4  5  6  7  8  9 10 11 12 13 14 15 16 17 18 19]\n"
     ]
    }
   ],
   "source": [
    "# np.arange\n",
    "X = np.arange(20)\n",
    "print(X)"
   ]
  },
  {
   "cell_type": "code",
   "execution_count": 3,
   "metadata": {
    "ExecuteTime": {
     "end_time": "2021-01-29T04:46:54.652638Z",
     "start_time": "2021-01-29T04:46:54.643614Z"
    },
    "pycharm": {
     "name": "#%%\n"
    }
   },
   "outputs": [
    {
     "name": "stdout",
     "output_type": "stream",
     "text": [
      "[10 12 14 16 18]\n",
      "10\n",
      "18\n",
      "After change X[0] [ 3 12 14 16 18]\n"
     ]
    }
   ],
   "source": [
    "X = np.arange(start=10, stop=20, step=2)\n",
    "print(X)\n",
    "\n",
    "print(X[0])\n",
    "print(X[4])\n",
    "\n",
    "X[0]=3\n",
    "\n",
    "print(\"After change X[0]\", X)"
   ]
  },
  {
   "cell_type": "markdown",
   "metadata": {
    "pycharm": {
     "name": "#%% md\n"
    }
   },
   "source": [
    "#### You can generate a matrix using np.zeros, np.ones and np.fulls. You also can reshape 1 dim array to make a matrix"
   ]
  },
  {
   "cell_type": "code",
   "execution_count": 4,
   "metadata": {
    "ExecuteTime": {
     "end_time": "2021-01-29T04:38:46.940365Z",
     "start_time": "2021-01-29T04:38:46.930410Z"
    },
    "pycharm": {
     "name": "#%%\n"
    }
   },
   "outputs": [
    {
     "name": "stdout",
     "output_type": "stream",
     "text": [
      "[[0. 0. 0. 0. 0.]\n",
      " [0. 0. 0. 0. 0.]\n",
      " [0. 0. 0. 0. 0.]\n",
      " [0. 0. 0. 0. 0.]\n",
      " [0. 0. 0. 0. 0.]] \n",
      "\n",
      "Shape of X (5, 5)\n"
     ]
    }
   ],
   "source": [
    "X = np.zeros((5, 5))\n",
    "print(X, \"\\n\")\n",
    "print(\"Shape of X\", X.shape)"
   ]
  },
  {
   "cell_type": "code",
   "execution_count": 5,
   "metadata": {
    "pycharm": {
     "name": "#%%\n"
    }
   },
   "outputs": [
    {
     "name": "stdout",
     "output_type": "stream",
     "text": [
      "[[11 11 11]\n",
      " [11 11 11]\n",
      " [11 11 11]] \n",
      "\n"
     ]
    }
   ],
   "source": [
    "X= np.full((3, 3), 11)\n",
    "print(X, \"\\n\")"
   ]
  },
  {
   "cell_type": "code",
   "execution_count": 6,
   "metadata": {
    "pycharm": {
     "name": "#%%\n"
    }
   },
   "outputs": [
    {
     "name": "stdout",
     "output_type": "stream",
     "text": [
      "[[ 0  1  2  3  4]\n",
      " [ 5  6  7  8  9]\n",
      " [10 11 12 13 14]\n",
      " [15 16 17 18 19]]\n"
     ]
    }
   ],
   "source": [
    "X = np.arange(20).reshape((4,5))\n",
    "print(X)"
   ]
  },
  {
   "cell_type": "markdown",
   "metadata": {
    "ExecuteTime": {
     "end_time": "2021-01-29T04:39:01.427903Z",
     "start_time": "2021-01-29T04:39:01.418090Z"
    },
    "pycharm": {
     "name": "#%% md\n"
    }
   },
   "source": [
    "#### Generate matrix with specific values "
   ]
  },
  {
   "cell_type": "code",
   "execution_count": 7,
   "metadata": {
    "ExecuteTime": {
     "end_time": "2021-01-29T04:41:39.143602Z",
     "start_time": "2021-01-29T04:41:39.134797Z"
    },
    "pycharm": {
     "name": "#%%\n"
    }
   },
   "outputs": [
    {
     "name": "stdout",
     "output_type": "stream",
     "text": [
      "[[1 2]\n",
      " [3 4]]\n",
      "[[ 5  6  7]\n",
      " [ 8  9 10]]\n",
      "Matrix multiplication (Dot product):\n",
      "[[21 24 27]\n",
      " [47 54 61]]\n"
     ]
    }
   ],
   "source": [
    "a = np.array([[1,2], [3,4]])\n",
    "b = np.array([[5,6,7], [8,9,10]])\n",
    "ab = np.dot(a,b)\n",
    "\n",
    "print(a)\n",
    "print(b)\n",
    "print(\"Matrix multiplication (Dot product):\")\n",
    "print(ab)"
   ]
  },
  {
   "cell_type": "markdown",
   "metadata": {
    "pycharm": {
     "name": "#%% md\n"
    }
   },
   "source": [
    "#### Can use matrix instead of array"
   ]
  },
  {
   "cell_type": "code",
   "execution_count": 8,
   "metadata": {
    "pycharm": {
     "name": "#%%\n"
    }
   },
   "outputs": [
    {
     "name": "stdout",
     "output_type": "stream",
     "text": [
      "[[1 2]\n",
      " [3 4]] \n",
      "\n",
      "[[ 5  6  7]\n",
      " [ 8  9 10]] \n",
      "\n",
      "Matrix multiplication using dot product:\n",
      "[[21 24 27]\n",
      " [47 54 61]] \n",
      "\n",
      "Matrix multiplication using *:\n",
      "[[21 24 27]\n",
      " [47 54 61]] \n",
      "\n"
     ]
    }
   ],
   "source": [
    "a = np.matrix([[1,2], [3,4]])\n",
    "b = np.matrix([[5,6,7], [8,9,10]])\n",
    "ab1 = np.dot(a,b)\n",
    "ab2 = a *b\n",
    "print(a, \"\\n\")\n",
    "print(b,\"\\n\")\n",
    "\n",
    "print(\"Matrix multiplication using dot product:\")\n",
    "print(ab1, \"\\n\")\n",
    "print(\"Matrix multiplication using *:\")\n",
    "print(ab2, \"\\n\")\n"
   ]
  },
  {
   "cell_type": "markdown",
   "metadata": {
    "pycharm": {
     "name": "#%% md\n"
    }
   },
   "source": [
    "#### Generate Diagonal matrix "
   ]
  },
  {
   "cell_type": "code",
   "execution_count": 9,
   "metadata": {
    "ExecuteTime": {
     "end_time": "2021-01-29T05:10:46.821468Z",
     "start_time": "2021-01-29T05:10:46.812060Z"
    },
    "pycharm": {
     "name": "#%%\n"
    }
   },
   "outputs": [
    {
     "name": "stdout",
     "output_type": "stream",
     "text": [
      "Vector for diag\n",
      "[1 2 3 4] \n",
      "\n",
      "Diag matrix:\n",
      "[[1 0 0 0]\n",
      " [0 2 0 0]\n",
      " [0 0 3 0]\n",
      " [0 0 0 4]]\n"
     ]
    }
   ],
   "source": [
    "x1 = np.arange(1,5)\n",
    "x1_diag = np.diag(x1)\n",
    "\n",
    "print(\"Vector for diag\")\n",
    "print(x1 ,\"\\n\")\n",
    "\n",
    "print(\"Diag matrix:\")\n",
    "print(x1_diag)\n"
   ]
  },
  {
   "cell_type": "code",
   "execution_count": 10,
   "metadata": {
    "ExecuteTime": {
     "end_time": "2021-01-29T04:35:54.355395Z",
     "start_time": "2021-01-29T04:35:54.346068Z"
    },
    "pycharm": {
     "name": "#%%\n"
    }
   },
   "outputs": [
    {
     "data": {
      "text/plain": [
       "array([[1., 0., 0., 0., 0.],\n",
       "       [0., 1., 0., 0., 0.],\n",
       "       [0., 0., 1., 0., 0.],\n",
       "       [0., 0., 0., 1., 0.],\n",
       "       [0., 0., 0., 0., 1.]])"
      ]
     },
     "execution_count": 10,
     "metadata": {},
     "output_type": "execute_result"
    }
   ],
   "source": [
    "np.eye(5)"
   ]
  },
  {
   "cell_type": "markdown",
   "metadata": {
    "pycharm": {
     "name": "#%% md\n"
    }
   },
   "source": [
    "#### Combine arrays..."
   ]
  },
  {
   "cell_type": "code",
   "execution_count": 11,
   "metadata": {
    "ExecuteTime": {
     "end_time": "2021-01-29T04:44:57.859322Z",
     "start_time": "2021-01-29T04:44:57.848730Z"
    },
    "pycharm": {
     "name": "#%%\n"
    }
   },
   "outputs": [
    {
     "data": {
      "text/plain": [
       "array([[1, 2],\n",
       "       [3, 4]])"
      ]
     },
     "execution_count": 11,
     "metadata": {},
     "output_type": "execute_result"
    }
   ],
   "source": [
    "X = np.array([1, 2])\n",
    "Y = np.array([3, 4])\n",
    "\n",
    "np.vstack([X, Y])"
   ]
  },
  {
   "cell_type": "code",
   "execution_count": 12,
   "metadata": {
    "ExecuteTime": {
     "end_time": "2021-01-29T04:45:09.778508Z",
     "start_time": "2021-01-29T04:45:09.770426Z"
    },
    "pycharm": {
     "name": "#%%\n"
    }
   },
   "outputs": [
    {
     "data": {
      "text/plain": [
       "array([1, 2, 3, 4])"
      ]
     },
     "execution_count": 12,
     "metadata": {},
     "output_type": "execute_result"
    }
   ],
   "source": [
    "np.hstack([X, Y])"
   ]
  },
  {
   "cell_type": "markdown",
   "metadata": {
    "pycharm": {
     "name": "#%% md\n"
    }
   },
   "source": [
    "#### Transpose "
   ]
  },
  {
   "cell_type": "code",
   "execution_count": 13,
   "metadata": {
    "pycharm": {
     "name": "#%%\n"
    }
   },
   "outputs": [
    {
     "name": "stdout",
     "output_type": "stream",
     "text": [
      "transpose:\n",
      "[[1 3]\n",
      " [2 4]] \n",
      "\n",
      "[[ 5  8]\n",
      " [ 6  9]\n",
      " [ 7 10]] \n",
      "\n",
      "Show (ab)^T is the same as b^T a^T:\n",
      "[[21 47]\n",
      " [24 54]\n",
      " [27 61]] \n",
      "\n",
      "[[21 47]\n",
      " [24 54]\n",
      " [27 61]] \n",
      "\n"
     ]
    }
   ],
   "source": [
    "a = np.array([[1,2], [3,4]])\n",
    "b = np.array([[5,6,7], [8,9,10]])\n",
    "\n",
    "print(\"transpose:\")\n",
    "print(a.T, \"\\n\")\n",
    "print(b.T, \"\\n\")\n",
    "\n",
    "\n",
    "abt1 = np.dot(a,b).T\n",
    "abt2 = np.dot(b.T,a.T)\n",
    "\n",
    "print(\"Show (ab)^T is the same as b^T a^T:\")\n",
    "print(abt1, \"\\n\")\n",
    "print(abt2, \"\\n\")\n"
   ]
  },
  {
   "cell_type": "markdown",
   "metadata": {
    "pycharm": {
     "name": "#%% md\n"
    }
   },
   "source": [
    "#### Inverse "
   ]
  },
  {
   "cell_type": "code",
   "execution_count": 15,
   "metadata": {
    "pycharm": {
     "name": "#%%\n"
    }
   },
   "outputs": [
    {
     "name": "stdout",
     "output_type": "stream",
     "text": [
      "Inverse\n",
      "[[-2.   1. ]\n",
      " [ 1.5 -0.5]] \n",
      "\n",
      "[[1.00000000e+00 1.11022302e-16]\n",
      " [0.00000000e+00 1.00000000e+00]] \n",
      "\n"
     ]
    }
   ],
   "source": [
    "a_inv = np.linalg.inv(a)\n",
    "\n",
    "print(\"Inverse\")\n",
    "print(a_inv, \"\\n\")\n",
    "print(np.dot(a,a_inv), \"\\n\")\n",
    "\n"
   ]
  },
  {
   "cell_type": "code",
   "execution_count": null,
   "metadata": {
    "pycharm": {
     "name": "#%%\n"
    }
   },
   "outputs": [],
   "source": []
  }
 ],
 "metadata": {
  "kernelspec": {
   "display_name": "Python 3 (ipykernel)",
   "language": "python",
   "name": "python3"
  },
  "language_info": {
   "codemirror_mode": {
    "name": "ipython",
    "version": 3
   },
   "file_extension": ".py",
   "mimetype": "text/x-python",
   "name": "python",
   "nbconvert_exporter": "python",
   "pygments_lexer": "ipython3",
   "version": "3.9.7"
  },
  "varInspector": {
   "cols": {
    "lenName": 16,
    "lenType": 16,
    "lenVar": 40
   },
   "kernels_config": {
    "python": {
     "delete_cmd_postfix": "",
     "delete_cmd_prefix": "del ",
     "library": "var_list.py",
     "varRefreshCmd": "print(var_dic_list())"
    },
    "r": {
     "delete_cmd_postfix": ") ",
     "delete_cmd_prefix": "rm(",
     "library": "var_list.r",
     "varRefreshCmd": "cat(var_dic_list()) "
    }
   },
   "types_to_exclude": [
    "module",
    "function",
    "builtin_function_or_method",
    "instance",
    "_Feature"
   ],
   "window_display": false
  }
 },
 "nbformat": 4,
 "nbformat_minor": 4
}