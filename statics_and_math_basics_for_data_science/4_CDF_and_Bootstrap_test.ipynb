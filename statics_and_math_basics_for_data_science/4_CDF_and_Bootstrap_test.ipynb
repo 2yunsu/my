{
 "cells": [
  {
   "cell_type": "code",
   "execution_count": 22,
   "metadata": {
    "ExecuteTime": {
     "end_time": "2021-01-29T06:19:11.351973Z",
     "start_time": "2021-01-29T06:19:11.339056Z"
    }
   },
   "outputs": [
    {
     "ename": "ImportError",
     "evalue": "cannot import name 'bootstrap'",
     "output_type": "error",
     "traceback": [
      "\u001B[1;31m---------------------------------------------------------------------------\u001B[0m",
      "\u001B[1;31mImportError\u001B[0m                               Traceback (most recent call last)",
      "\u001B[1;32m<ipython-input-22-4ca0cc8a5712>\u001B[0m in \u001B[0;36m<module>\u001B[1;34m\u001B[0m\n\u001B[0;32m      4\u001B[0m \u001B[1;32mimport\u001B[0m \u001B[0mseaborn\u001B[0m \u001B[1;32mas\u001B[0m \u001B[0msns\u001B[0m\u001B[1;33m\u001B[0m\u001B[0m\n\u001B[0;32m      5\u001B[0m \u001B[1;32mfrom\u001B[0m \u001B[0mstatsmodels\u001B[0m\u001B[1;33m.\u001B[0m\u001B[0mdistributions\u001B[0m\u001B[1;33m.\u001B[0m\u001B[0mempirical_distribution\u001B[0m \u001B[1;32mimport\u001B[0m \u001B[0mECDF\u001B[0m\u001B[1;33m\u001B[0m\u001B[0m\n\u001B[1;32m----> 6\u001B[1;33m \u001B[1;32mfrom\u001B[0m \u001B[0mscipy\u001B[0m\u001B[1;33m.\u001B[0m\u001B[0mstats\u001B[0m \u001B[1;32mimport\u001B[0m \u001B[0mbootstrap\u001B[0m\u001B[1;33m\u001B[0m\u001B[0m\n\u001B[0m\u001B[0;32m      7\u001B[0m \u001B[1;32mimport\u001B[0m \u001B[0mmath\u001B[0m\u001B[1;33m\u001B[0m\u001B[0m\n\u001B[0;32m      8\u001B[0m \u001B[0mget_ipython\u001B[0m\u001B[1;33m(\u001B[0m\u001B[1;33m)\u001B[0m\u001B[1;33m.\u001B[0m\u001B[0mrun_line_magic\u001B[0m\u001B[1;33m(\u001B[0m\u001B[1;34m'matplotlib'\u001B[0m\u001B[1;33m,\u001B[0m \u001B[1;34m'inline'\u001B[0m\u001B[1;33m)\u001B[0m\u001B[1;33m\u001B[0m\u001B[0m\n",
      "\u001B[1;31mImportError\u001B[0m: cannot import name 'bootstrap'"
     ]
    }
   ],
   "source": [
    "import numpy as np\n",
    "import pandas as pd\n",
    "import matplotlib.pyplot as plt\n",
    "import seaborn as sns\n",
    "from statsmodels.distributions.empirical_distribution import ECDF\n",
    "import scipy.stats\n",
    "import math\n",
    "%matplotlib inline"
   ]
  },
  {
   "cell_type": "code",
   "execution_count": null,
   "metadata": {
    "ExecuteTime": {
     "end_time": "2021-01-29T06:19:11.587086Z",
     "start_time": "2021-01-29T06:19:11.582543Z"
    }
   },
   "outputs": [],
   "source": [
    "plt.rcParams[\"figure.figsize\"] = (12,6) # set figure size"
   ]
  },
  {
   "cell_type": "markdown",
   "metadata": {},
   "source": [
    "## Coris data analysis\n",
    "It is well known that LDL (low density lipoprotein) is a bad cholesterol which increases the risk of coronary heart diseases (CHD). From the coris data analysis, we can show it. First we read the data and get summary statistics."
   ]
  },
  {
   "cell_type": "code",
   "execution_count": 23,
   "metadata": {
    "ExecuteTime": {
     "end_time": "2021-01-29T06:19:12.181001Z",
     "start_time": "2021-01-29T06:19:12.143161Z"
    }
   },
   "outputs": [
    {
     "data": {
      "text/plain": "   row.names  sbp  tobacco   ldl  adiposity  famhist  typea  obesity  alcohol  \\\n0          1  160    12.00  5.73      23.11        1     49    25.30    97.20   \n1          2  144     0.01  4.41      28.61        0     55    28.87     2.06   \n\n   age  chd  \n0   52    1  \n1   63    1  ",
      "text/html": "<div>\n<style scoped>\n    .dataframe tbody tr th:only-of-type {\n        vertical-align: middle;\n    }\n\n    .dataframe tbody tr th {\n        vertical-align: top;\n    }\n\n    .dataframe thead th {\n        text-align: right;\n    }\n</style>\n<table border=\"1\" class=\"dataframe\">\n  <thead>\n    <tr style=\"text-align: right;\">\n      <th></th>\n      <th>row.names</th>\n      <th>sbp</th>\n      <th>tobacco</th>\n      <th>ldl</th>\n      <th>adiposity</th>\n      <th>famhist</th>\n      <th>typea</th>\n      <th>obesity</th>\n      <th>alcohol</th>\n      <th>age</th>\n      <th>chd</th>\n    </tr>\n  </thead>\n  <tbody>\n    <tr>\n      <th>0</th>\n      <td>1</td>\n      <td>160</td>\n      <td>12.00</td>\n      <td>5.73</td>\n      <td>23.11</td>\n      <td>1</td>\n      <td>49</td>\n      <td>25.30</td>\n      <td>97.20</td>\n      <td>52</td>\n      <td>1</td>\n    </tr>\n    <tr>\n      <th>1</th>\n      <td>2</td>\n      <td>144</td>\n      <td>0.01</td>\n      <td>4.41</td>\n      <td>28.61</td>\n      <td>0</td>\n      <td>55</td>\n      <td>28.87</td>\n      <td>2.06</td>\n      <td>63</td>\n      <td>1</td>\n    </tr>\n  </tbody>\n</table>\n</div>"
     },
     "execution_count": 23,
     "metadata": {},
     "output_type": "execute_result"
    }
   ],
   "source": [
    "df = pd.read_csv('coris.txt', sep=',', skiprows=[0, 1])\n",
    "df.head(2)"
   ]
  },
  {
   "cell_type": "code",
   "execution_count": 24,
   "metadata": {
    "ExecuteTime": {
     "end_time": "2021-01-29T06:19:12.426384Z",
     "start_time": "2021-01-29T06:19:12.414844Z"
    }
   },
   "outputs": [
    {
     "data": {
      "text/plain": "0    302\n1    160\nName: chd, dtype: int64"
     },
     "execution_count": 24,
     "metadata": {},
     "output_type": "execute_result"
    }
   ],
   "source": [
    "df['chd'] = df['chd'].astype('category')\n",
    "df['chd'].value_counts()"
   ]
  },
  {
   "cell_type": "code",
   "execution_count": 25,
   "metadata": {
    "ExecuteTime": {
     "end_time": "2021-01-29T06:19:13.235600Z",
     "start_time": "2021-01-29T06:19:12.698166Z"
    }
   },
   "outputs": [
    {
     "data": {
      "text/plain": "<Figure size 432x288 with 2 Axes>",
      "image/png": "[encoded data removed]"
     },
     "metadata": {
      "needs_background": "light"
     },
     "output_type": "display_data"
    }
   ],
   "source": [
    "plt.subplot(1, 2, 1)\n",
    "plt.hist(df['ldl'])\n",
    "plt.xlabel('LDL')\n",
    "plt.ylabel('Frequency')\n",
    "plt.title('Histogram of LDL')\n",
    "\n",
    "plt.subplot(1, 2, 2)\n",
    "sns.boxplot(data=df, x='chd', y='ldl')\n",
    "plt.xlabel('CHD')\n",
    "plt.ylabel('LDL')\n",
    "plt.title('LDL by CHD');"
   ]
  },
  {
   "cell_type": "markdown",
   "metadata": {},
   "source": [
    "### Get a little bit fancier plots using seaborn."
   ]
  },
  {
   "cell_type": "code",
   "execution_count": 26,
   "metadata": {
    "ExecuteTime": {
     "end_time": "2021-01-29T06:19:13.933235Z",
     "start_time": "2021-01-29T06:19:13.362185Z"
    }
   },
   "outputs": [
    {
     "data": {
      "text/plain": "<Figure size 432x288 with 2 Axes>",
      "image/png": "[encoded data removed]"
     },
     "metadata": {
      "needs_background": "light"
     },
     "output_type": "display_data"
    }
   ],
   "source": [
    "plt.subplot(1, 2, 1)\n",
    "sns.histplot(data=df, x=\"ldl\", kde = False, bins = 30, hue=\"chd\")\n",
    "\n",
    "# Violin plot\n",
    "plt.subplot(1, 2, 2)\n",
    "sns.violinplot(data=df, x='chd', y='ldl', inner = 'box');"
   ]
  },
  {
   "cell_type": "markdown",
   "metadata": {
    "ExecuteTime": {
     "end_time": "2021-01-28T20:06:25.041505Z",
     "start_time": "2021-01-28T20:06:25.036903Z"
    }
   },
   "source": [
    "### Following shows that empirical CDF of two groups are different."
   ]
  },
  {
   "cell_type": "code",
   "execution_count": 27,
   "metadata": {
    "ExecuteTime": {
     "end_time": "2021-01-29T06:19:14.454018Z",
     "start_time": "2021-01-29T06:19:14.045862Z"
    }
   },
   "outputs": [
    {
     "data": {
      "text/plain": "<Figure size 432x288 with 1 Axes>",
      "image/png": "[encoded data removed]"
     },
     "metadata": {
      "needs_background": "light"
     },
     "output_type": "display_data"
    }
   ],
   "source": [
    "x_range = np.linspace(min(df['ldl']), max(df['ldl']), 1000)\n",
    "\n",
    "for i in set(df['chd']):\n",
    "    ecdf = ECDF(df[df['chd'] == i]['ldl'])\n",
    "    sns.regplot(x=x_range, y=ecdf(x_range), fit_reg = False, label = i)\n",
    "plt.xlabel('x_range')\n",
    "plt.ylabel('ecdf(x_range)')\n",
    "plt.legend(title='CHD');"
   ]
  },
  {
   "cell_type": "markdown",
   "metadata": {},
   "source": [
    "### Now we get the statistics. In particular, we get the mean LDL difference between two groups and its confidence interval."
   ]
  },
  {
   "cell_type": "code",
   "execution_count": 28,
   "metadata": {
    "ExecuteTime": {
     "end_time": "2021-01-29T06:19:15.165976Z",
     "start_time": "2021-01-29T06:19:15.145100Z"
    }
   },
   "outputs": [
    {
     "name": "stdout",
     "output_type": "stream",
     "text": [
      "mu_0: 4.344238\n",
      "mu_1: 5.487938\n",
      "se_0: 0.1074535900297865\n",
      "se_1: 0.17535689270552196\n"
     ]
    }
   ],
   "source": [
    "df0 = df[df['chd'] == 0]\n",
    "df1 = df[df['chd'] == 1]\n",
    "n0, n1 = len(df0), len(df1)\n",
    "\n",
    "mu_0 = np.mean(df0['ldl'])\n",
    "mu_1 = np.mean(df1['ldl'])\n",
    "se_0 = np.std(df0['ldl']) / np.sqrt(n0)\n",
    "se_1 = np.std(df1['ldl']) / np.sqrt(n1)\n",
    "\n",
    "print('mu_0:', np.round(mu_0, 6))\n",
    "print('mu_1:', np.round(mu_1, 6))\n",
    "print('se_0:', se_0)\n",
    "print('se_1:', se_1)"
   ]
  },
  {
   "cell_type": "code",
   "execution_count": 29,
   "metadata": {
    "ExecuteTime": {
     "end_time": "2021-01-29T06:19:15.819415Z",
     "start_time": "2021-01-29T06:19:15.810863Z"
    }
   },
   "outputs": [
    {
     "name": "stdout",
     "output_type": "stream",
     "text": [
      "T: 1.1436990894039738\n",
      "T_se: 0.2056606764299519\n"
     ]
    }
   ],
   "source": [
    "# Plug in estimator\n",
    "T = mu_1 - mu_0\n",
    "T_se = np.sqrt(se_0**2 + se_1**2)  \n",
    "\n",
    "print('T:', T)\n",
    "print('T_se:', T_se)"
   ]
  },
  {
   "cell_type": "code",
   "execution_count": 30,
   "metadata": {
    "ExecuteTime": {
     "end_time": "2021-01-29T06:19:16.179294Z",
     "start_time": "2021-01-29T06:19:16.172074Z"
    }
   },
   "outputs": [
    {
     "data": {
      "text/plain": "(0.7406041636012681, 1.5467940152066795)"
     },
     "execution_count": 30,
     "metadata": {},
     "output_type": "execute_result"
    }
   ],
   "source": [
    "# 95% Interval\n",
    "(T - 1.96*T_se, T + 1.96*T_se)"
   ]
  },
  {
   "cell_type": "markdown",
   "metadata": {},
   "source": [
    "## Bootstrap\n",
    "Now we consider to get the distribution of median LDL for CHD=1"
   ]
  },
  {
   "cell_type": "code",
   "execution_count": 40,
   "metadata": {
    "ExecuteTime": {
     "end_time": "2021-01-28T21:31:02.596337Z",
     "start_time": "2021-01-28T21:31:01.687864Z"
    }
   },
   "outputs": [
    {
     "name": "stdout",
     "output_type": "stream",
     "text": [
      "Median: 1.8050000000000002 \n",
      "\n"
     ]
    },
    {
     "data": {
      "text/plain": "<AxesSubplot:ylabel='Count'>"
     },
     "execution_count": 40,
     "metadata": {},
     "output_type": "execute_result"
    },
    {
     "data": {
      "text/plain": "<Figure size 432x288 with 1 Axes>",
      "image/png": "[encoded data removed]"
     },
     "metadata": {
      "needs_background": "light"
     },
     "output_type": "display_data"
    }
   ],
   "source": [
    "\n",
    "tobacco_1 = df1['tobacco']\n",
    "T_Median = np.median(tobacco_1)\n",
    "print(\"Median:\", T_Median, \"\\n\")\n",
    "\n",
    "# Bootstrap\n",
    "\n",
    "B = 1000\n",
    "B_Median = np.zeros(B)\n",
    "\n",
    "for i in range(B):\n",
    "    B_sample = tobacco_1.sample(frac=1, replace = True)\n",
    "    B_Median[i] = np.median(B_sample)\n",
    "    \n",
    "sns.histplot(x=B_Median, bins=15)\n"
   ]
  },
  {
   "cell_type": "markdown",
   "metadata": {},
   "source": [
    "### Now we get various Bootstrap confidence intervals"
   ]
  },
  {
   "cell_type": "code",
   "execution_count": 32,
   "metadata": {
    "ExecuteTime": {
     "end_time": "2021-01-29T06:21:51.377073Z",
     "start_time": "2021-01-29T06:21:51.357911Z"
    }
   },
   "outputs": [
    {
     "data": {
      "text/plain": "{'CI_Percent(2.5%, 97.5%)': [4.6850000000000005, 5.45],\n 'CI_Normal(2.5%, 97.5%)': [4.723912567230286, 5.406087432769713],\n 'CI_Pivot(2.5%, 97.5%)': [4.679999999999999, 5.4449999999999985]}"
     },
     "execution_count": 32,
     "metadata": {},
     "output_type": "execute_result"
    }
   ],
   "source": [
    "def Get_CI(T, B_Sample):\n",
    "    # Percentile Interval\n",
    "    CI_Percent = list(np.quantile(B_Sample, q=[0.025, 0.975]))\n",
    "    # Normal Interval\n",
    "    se_b = np.std(B_Sample, ddof=1)\n",
    "    CI_Normal = [T - 1.96*se_b, T + 1.96*se_b]\n",
    "    # Pivot Interval\n",
    "    CI_Pivot = [2*T - CI_Percent[1], 2*T - CI_Percent[0]]\n",
    "\n",
    "    re = {'CI_Percent(2.5%, 97.5%)':CI_Percent, 'CI_Normal(2.5%, 97.5%)':CI_Normal, 'CI_Pivot(2.5%, 97.5%)':CI_Pivot}\n",
    "    return re\n",
    "\n",
    "Get_CI(T_Median, B_Median)"
   ]
  },
  {
   "cell_type": "markdown",
   "metadata": {},
   "source": [
    "## LDL difference between CHD groups\n",
    "Now we are interested in checking whether LDL levels are different by CHD groups. Here we use Bootstrap to get the confidence interval."
   ]
  },
  {
   "cell_type": "code",
   "execution_count": 33,
   "metadata": {},
   "outputs": [
    {
     "name": "stdout",
     "output_type": "stream",
     "text": [
      "1.1436990894039738\n"
     ]
    }
   ],
   "source": [
    "T_MeanDiff = np.mean(df1['ldl']) - np.mean(df0['ldl'])\n",
    "print(T_MeanDiff)"
   ]
  },
  {
   "cell_type": "code",
   "execution_count": 34,
   "metadata": {
    "ExecuteTime": {
     "end_time": "2021-01-29T07:00:05.621585Z",
     "start_time": "2021-01-29T07:00:03.468568Z"
    }
   },
   "outputs": [
    {
     "data": {
      "text/plain": "<AxesSubplot:ylabel='Count'>"
     },
     "execution_count": 34,
     "metadata": {},
     "output_type": "execute_result"
    },
    {
     "data": {
      "text/plain": "<Figure size 432x288 with 1 Axes>",
      "image/png": "[encoded data removed]"
     },
     "metadata": {
      "needs_background": "light"
     },
     "output_type": "display_data"
    }
   ],
   "source": [
    "n = df.shape[0]\n",
    "B = 1000\n",
    "B_MeanDiff = np.zeros(B)\n",
    "\n",
    "for i in range(B):\n",
    "    B_sample_idx = np.random.choice(n, size=n, replace=True)\n",
    "    df_B = df.iloc[B_sample_idx, ]\n",
    "    mean1 = np.mean(df_B[df_B['chd'] == 1]['ldl'])\n",
    "    mean0 = np.mean(df_B[df_B['chd'] == 0]['ldl'])\n",
    "    B_MeanDiff[i] = mean1 - mean0\n",
    "    \n",
    "sns.histplot(x=B_MeanDiff, bins=15)"
   ]
  },
  {
   "cell_type": "code",
   "execution_count": 35,
   "metadata": {
    "ExecuteTime": {
     "end_time": "2021-01-29T07:00:08.072111Z",
     "start_time": "2021-01-29T07:00:08.064035Z"
    }
   },
   "outputs": [
    {
     "data": {
      "text/plain": "{'CI_Percent(2.5%, 97.5%)': [0.7497152072119176, 1.571462859398643],\n 'CI_Normal(2.5%, 97.5%)': [0.7341319890531117, 1.5532661897548359],\n 'CI_Pivot(2.5%, 97.5%)': [0.7159353194093045, 1.53768297159603]}"
     },
     "execution_count": 35,
     "metadata": {},
     "output_type": "execute_result"
    }
   ],
   "source": [
    "# Confidence Interval\n",
    "Get_CI(T_MeanDiff, B_MeanDiff)"
   ]
  },
  {
   "cell_type": "markdown",
   "metadata": {},
   "source": [
    "# Correlation between LDL and sbp\n",
    "## Now researchers are interested in the correlation between LDL and sbp"
   ]
  },
  {
   "cell_type": "code",
   "execution_count": 36,
   "metadata": {
    "ExecuteTime": {
     "end_time": "2021-01-29T06:24:05.988320Z",
     "start_time": "2021-01-29T06:24:05.572112Z"
    }
   },
   "outputs": [
    {
     "data": {
      "text/plain": "0.2122465245650111"
     },
     "execution_count": 36,
     "metadata": {},
     "output_type": "execute_result"
    },
    {
     "data": {
      "text/plain": "<Figure size 432x288 with 1 Axes>",
      "image/png": "[encoded data removed]"
     },
     "metadata": {
      "needs_background": "light"
     },
     "output_type": "display_data"
    }
   ],
   "source": [
    "sns.scatterplot(x=np.log(df['tobacco']+0.1), y=df['sbp'])\n",
    "T_Corr = np.corrcoef(df['tobacco'], df['sbp'])[0, 1]\n",
    "T_Corr"
   ]
  },
  {
   "cell_type": "code",
   "execution_count": 37,
   "metadata": {
    "ExecuteTime": {
     "end_time": "2021-01-29T06:28:05.810935Z",
     "start_time": "2021-01-29T06:28:00.444444Z"
    }
   },
   "outputs": [
    {
     "data": {
      "text/plain": "<AxesSubplot:ylabel='Count'>"
     },
     "execution_count": 37,
     "metadata": {},
     "output_type": "execute_result"
    },
    {
     "data": {
      "text/plain": "<Figure size 432x288 with 1 Axes>",
      "image/png": "[encoded data removed]"
     },
     "metadata": {
      "needs_background": "light"
     },
     "output_type": "display_data"
    }
   ],
   "source": [
    "n = df.shape[0]\n",
    "B = 1000\n",
    "B_Corr = np.zeros(B)\n",
    "\n",
    "for i in range(B):\n",
    "    B_sample_idx = np.random.choice(n, size=n, replace=True)\n",
    "    df1 = df.iloc[B_sample_idx, ]\n",
    "    B_Corr[i] = np.corrcoef(np.log(df1['tobacco']+0.1), df1['sbp'])[0, 1]\n",
    "\n",
    "sns.histplot(B_Corr, bins=15)"
   ]
  },
  {
   "cell_type": "code",
   "execution_count": 38,
   "metadata": {
    "ExecuteTime": {
     "end_time": "2021-01-29T06:28:05.900657Z",
     "start_time": "2021-01-29T06:28:05.895869Z"
    }
   },
   "outputs": [
    {
     "data": {
      "text/plain": "{'CI_Percent(2.5%, 97.5%)': [0.1196304602057621, 0.2860590168160485],\n 'CI_Normal(2.5%, 97.5%)': [0.128845464220748, 0.29564758490927423],\n 'CI_Pivot(2.5%, 97.5%)': [0.13843403231397372, 0.3048625889242601]}"
     },
     "execution_count": 38,
     "metadata": {},
     "output_type": "execute_result"
    }
   ],
   "source": [
    "# Percentile Interval\n",
    "Get_CI(T_Corr, B_Corr)"
   ]
  },
  {
   "cell_type": "code",
   "execution_count": 39,
   "metadata": {},
   "outputs": [
    {
     "ename": "AttributeError",
     "evalue": "module 'scipy.stats' has no attribute 'bootstrap'",
     "output_type": "error",
     "traceback": [
      "\u001B[1;31m---------------------------------------------------------------------------\u001B[0m",
      "\u001B[1;31mAttributeError\u001B[0m                            Traceback (most recent call last)",
      "\u001B[1;32m<ipython-input-39-57ab562e9466>\u001B[0m in \u001B[0;36m<module>\u001B[1;34m\u001B[0m\n\u001B[0;32m      9\u001B[0m \u001B[0my1\u001B[0m \u001B[1;33m=\u001B[0m \u001B[0mdf\u001B[0m\u001B[1;33m[\u001B[0m\u001B[1;34m'sbp'\u001B[0m\u001B[1;33m]\u001B[0m\u001B[1;33m\u001B[0m\u001B[0m\n\u001B[0;32m     10\u001B[0m \u001B[1;33m\u001B[0m\u001B[0m\n\u001B[1;32m---> 11\u001B[1;33m \u001B[0mout\u001B[0m \u001B[1;33m=\u001B[0m \u001B[0mst\u001B[0m\u001B[1;33m.\u001B[0m\u001B[0mbootstrap\u001B[0m\u001B[1;33m(\u001B[0m\u001B[1;33m(\u001B[0m\u001B[0mdf\u001B[0m\u001B[1;33m[\u001B[0m\u001B[1;34m'tobacco'\u001B[0m\u001B[1;33m]\u001B[0m\u001B[1;33m,\u001B[0m\u001B[0mdf\u001B[0m\u001B[1;33m[\u001B[0m\u001B[1;34m'sbp'\u001B[0m\u001B[1;33m]\u001B[0m\u001B[1;33m)\u001B[0m\u001B[1;33m,\u001B[0m \u001B[0mcorr1\u001B[0m\u001B[1;33m,\u001B[0m \u001B[0mpaired\u001B[0m\u001B[1;33m=\u001B[0m\u001B[1;32mTrue\u001B[0m\u001B[1;33m,\u001B[0m \u001B[0mvectorized\u001B[0m\u001B[1;33m=\u001B[0m\u001B[1;32mFalse\u001B[0m\u001B[1;33m,\u001B[0m \u001B[0mmethod\u001B[0m\u001B[1;33m=\u001B[0m\u001B[1;34m'BCa'\u001B[0m\u001B[1;33m)\u001B[0m\u001B[1;33m\u001B[0m\u001B[0m\n\u001B[0m\u001B[0;32m     12\u001B[0m \u001B[1;33m\u001B[0m\u001B[0m\n\u001B[0;32m     13\u001B[0m \u001B[0mprint\u001B[0m\u001B[1;33m(\u001B[0m\u001B[0mout\u001B[0m\u001B[1;33m)\u001B[0m\u001B[1;33m\u001B[0m\u001B[0m\n",
      "\u001B[1;31mAttributeError\u001B[0m: module 'scipy.stats' has no attribute 'bootstrap'"
     ]
    }
   ],
   "source": [
    "# Use scipy.stats.bootstrap\n",
    "#pip install -U scipy\n",
    "\n",
    "import scipy.stats as st\n",
    "def corr1(x1, y1):\n",
    "    return np.corrcoef(x1,y1)[0,1]\n",
    "\n",
    "x1 = df['tobacco']\n",
    "y1 = df['sbp']\n",
    "\n",
    "out = st.bootstrap((df['tobacco'],df['sbp']), corr1, paired=True, vectorized=False, method='BCa')\n",
    "\n",
    "print(out)\n"
   ]
  },
  {
   "cell_type": "code",
   "execution_count": null,
   "outputs": [],
   "source": [],
   "metadata": {
    "collapsed": false,
    "pycharm": {
     "name": "#%%\n"
    }
   }
  }
 ],
 "metadata": {
  "kernelspec": {
   "display_name": "Python 3",
   "language": "python",
   "name": "python3"
  },
  "language_info": {
   "codemirror_mode": {
    "name": "ipython",
    "version": 3
   },
   "file_extension": ".py",
   "mimetype": "text/x-python",
   "name": "python",
   "nbconvert_exporter": "python",
   "pygments_lexer": "ipython3",
   "version": "3.8.8"
  },
  "varInspector": {
   "cols": {
    "lenName": 16,
    "lenType": 16,
    "lenVar": 40
   },
   "kernels_config": {
    "python": {
     "delete_cmd_postfix": "",
     "delete_cmd_prefix": "del ",
     "library": "var_list.py",
     "varRefreshCmd": "print(var_dic_list())"
    },
    "r": {
     "delete_cmd_postfix": ") ",
     "delete_cmd_prefix": "rm(",
     "library": "var_list.r",
     "varRefreshCmd": "cat(var_dic_list()) "
    }
   },
   "types_to_exclude": [
    "module",
    "function",
    "builtin_function_or_method",
    "instance",
    "_Feature"
   ],
   "window_display": false
  }
 },
 "nbformat": 4,
 "nbformat_minor": 4
}