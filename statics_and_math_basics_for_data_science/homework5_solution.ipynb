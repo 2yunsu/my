{
 "cells": [
  {
   "cell_type": "code",
   "execution_count": 15,
   "id": "4538a07d-d51d-4d66-8285-ca339614b51b",
   "metadata": {
    "pycharm": {
     "name": "#%%\n"
    }
   },
   "outputs": [],
   "source": [
    "import numpy as np\n",
    "import pandas as pd\n",
    "import matplotlib.pyplot as plt\n",
    "import seaborn as sns\n",
    "import scipy.stats as ss\n",
    "from scipy.stats import chi2\n",
    "%matplotlib inline\n",
    "import math\n",
    "\n",
    "from statsmodels.sandbox.stats.multicomp import multipletests"
   ]
  },
  {
   "cell_type": "code",
   "execution_count": 2,
   "id": "1b626a77-5254-4c2c-9013-e86e1b9aab92",
   "metadata": {
    "pycharm": {
     "name": "#%%\n"
    }
   },
   "outputs": [],
   "source": [
    "plt.rcParams[\"figure.figsize\"] = (12,6) # set figure size"
   ]
  },
  {
   "cell_type": "markdown",
   "id": "4d7ee01b-6b00-4e37-bb4f-e2287a2f1b60",
   "metadata": {
    "pycharm": {
     "name": "#%% md\n"
    }
   },
   "source": [
    "## Question 1 c"
   ]
  },
  {
   "cell_type": "code",
   "execution_count": 3,
   "id": "cba1fd56-91ef-47ab-a70c-eda90cdac1f8",
   "metadata": {
    "pycharm": {
     "name": "#%%\n"
    }
   },
   "outputs": [
    {
     "name": "stdout",
     "output_type": "stream",
     "text": [
      "MLE tau hat is 4.180676699756028\n",
      "SE for delta method is 0.5576086333575547\n",
      "SE for bootstrap method is 0.5570456865032651\n"
     ]
    }
   ],
   "source": [
    "np.random.seed(100)\n",
    "x = np.array([ 3.23, -2.50,  1.88, -0.68,  4.43, 0.17, \n",
    "              1.03, -0.07, -0.01,  0.76,  1.76, 3.18,\n",
    "              0.33, -0.31,  0.30, -0.61,  1.52, 5.43,\n",
    "              1.54,  2.28,  0.42,  2.33, -1.03, 4.00,\n",
    "              0.39   \n",
    "             ])\n",
    "\n",
    "n = len(x)\n",
    "muhat = np.mean(x)\n",
    "sigmahat = np.std(x)\n",
    "tauhat = muhat + sigmahat * 1.645\n",
    "sehat = sigmahat / np.sqrt(n) * np.sqrt(1 + 1.645**2/2)\n",
    "\n",
    "B = 1000\n",
    "B_MeanDiff = np.zeros(B)\n",
    "for i in range(B):\n",
    "    B_sample_idx = np.random.normal(loc=muhat, scale=sigmahat, size=n)\n",
    "    B_MeanDiff[i] = np.mean(B_sample_idx) + np.std(B_sample_idx) * 1.645\n",
    "\n",
    "print(\"MLE tau hat is\", tauhat)\n",
    "print(\"SE for delta method is\", sehat)\n",
    "print(\"SE for bootstrap method is\", np.std(B_MeanDiff))"
   ]
  },
  {
   "cell_type": "markdown",
   "id": "be054992-6b5c-4571-a7de-91ab5e21706e",
   "metadata": {
    "pycharm": {
     "name": "#%% md\n"
    }
   },
   "source": [
    "# Problem 3"
   ]
  },
  {
   "cell_type": "markdown",
   "id": "bfa27c0a-c95d-45a9-9263-6477eb27e13a",
   "metadata": {
    "pycharm": {
     "name": "#%% md\n"
    }
   },
   "source": [
    "## 3a"
   ]
  },
  {
   "cell_type": "code",
   "execution_count": 4,
   "id": "e2d7eae3-e29e-4ab6-a7e9-9bd095cbac16",
   "metadata": {
    "pycharm": {
     "name": "#%%\n"
    }
   },
   "outputs": [
    {
     "name": "stdout",
     "output_type": "stream",
     "text": [
      "SE for Nonparametric is 12.514415698128172\n",
      "SE for parametric is 13.316278592897357\n",
      "SE for delta is 13.373151172873605\n",
      "\n",
      "CI for Nonparametric is [110.40017183415343, 158.33347364554834]\n",
      "CI for parametric is [109.23509763415906, 160.579913195595]\n",
      "CI for delta is [107.52013542990379, 159.94288802756833]\n"
     ]
    }
   ],
   "source": [
    "np.random.seed(100)\n",
    "n = 100\n",
    "x = np.random.normal(loc=5.0, scale=1.0, size=n)\n",
    "xbar = np.mean(x)\n",
    "thetahat = math.exp(xbar)\n",
    "sehat = thetahat/np.sqrt(n)\n",
    "B = 1000\n",
    "B_MeanDiff = np.zeros(B)\n",
    "B_MeanDiff2 = np.zeros(B)\n",
    "\n",
    "for i in range(B):\n",
    "    # nonparametric\n",
    "    B_sample_idx = np.random.choice(n, size=n,replace = True)\n",
    "    B_MeanDiff[i] = math.exp(np.mean(x[B_sample_idx]))\n",
    "    # parameteric\n",
    "    sample = np.random.normal(loc=xbar, scale=1.0, size=n)\n",
    "    B_MeanDiff2[i] = math.exp(np.mean(sample))\n",
    "    \n",
    "\n",
    "#print(B_MeanDiff)\n",
    "se = np.sqrt(np.var(B_MeanDiff))\n",
    "se2 = np.sqrt(np.var(B_MeanDiff2))\n",
    "\n",
    "se3 = thetahat * (1 / np.sqrt(n))\n",
    "\n",
    "CI_Percent = list(np.quantile(B_MeanDiff, q=[0.025, 0.975]))\n",
    "CI_Percent2 = list(np.quantile(B_MeanDiff2, q=[0.025, 0.975]))\n",
    "CI_Percent3 = [thetahat - 1.96 * se3, thetahat + 1.96 * se3]\n",
    "\n",
    "print(\"SE for Nonparametric is\", se)\n",
    "print(\"SE for parametric is\", se2)\n",
    "print(\"SE for delta is\", se3)\n",
    "print()\n",
    "\n",
    "print(\"CI for Nonparametric is\", CI_Percent)\n",
    "print(\"CI for parametric is\", CI_Percent2)\n",
    "print(\"CI for delta is\", CI_Percent3)"
   ]
  },
  {
   "cell_type": "markdown",
   "id": "1f325a99-73f7-47ee-b454-dd2eb1c1c610",
   "metadata": {
    "pycharm": {
     "name": "#%% md\n"
    }
   },
   "source": [
    "From result above, we can see that they have similar value for Standard error and Confidence error. Among them, the delta method appears to have the highest standard error value"
   ]
  },
  {
   "cell_type": "markdown",
   "id": "101de882-92d7-49da-bb3c-4a26dbb6171d",
   "metadata": {
    "pycharm": {
     "name": "#%% md\n"
    }
   },
   "source": [
    "## 3b"
   ]
  },
  {
   "cell_type": "code",
   "execution_count": 5,
   "id": "d8269a7c-aa38-4386-b061-65ab9791238c",
   "metadata": {
    "pycharm": {
     "name": "#%%\n"
    }
   },
   "outputs": [],
   "source": [
    "np.random.seed(100)\n",
    "\n",
    "B = 1000\n",
    "B_MeanDiff3 = np.zeros(B)\n",
    "\n",
    "for i in range(B):\n",
    "    # true\n",
    "    sample = np.random.normal(loc=5, scale=1.0, size=n)\n",
    "    B_MeanDiff3[i] = math.exp(np.mean(sample))\n",
    "    \n",
    "    \n",
    "# delta method\n",
    "B_MeanDiff4 = np.random.normal(loc=thetahat, scale=sehat**2, size=1000)"
   ]
  },
  {
   "cell_type": "code",
   "execution_count": 6,
   "id": "3341a7d8-240a-4de8-9b16-5edeadd98cd6",
   "metadata": {
    "pycharm": {
     "name": "#%%\n"
    }
   },
   "outputs": [
    {
     "data": {
      "text/plain": [
       "<matplotlib.legend.Legend at 0x7fe7c0aba370>"
      ]
     },
     "execution_count": 6,
     "metadata": {},
     "output_type": "execute_result"
    },
    {
     "data": {
      "image/png": "[encoded data removed]",
      "text/plain": [
       "<Figure size 864x432 with 1 Axes>"
      ]
     },
     "metadata": {
      "needs_background": "light"
     },
     "output_type": "display_data"
    }
   ],
   "source": [
    "plt.hist(B_MeanDiff, label = 'Nonparametric', density = True)\n",
    "plt.hist(B_MeanDiff2, label = 'Parametric', density = True)\n",
    "plt.hist(B_MeanDiff3, label = 'True', density = True)\n",
    "plt.hist(B_MeanDiff4, label = 'Delta', density = True)\n",
    "plt.legend()"
   ]
  },
  {
   "cell_type": "code",
   "execution_count": 7,
   "id": "745607e2-bc8c-4aa2-85dd-e6cf45f67d87",
   "metadata": {
    "pycharm": {
     "name": "#%%\n"
    }
   },
   "outputs": [
    {
     "data": {
      "text/plain": [
       "<matplotlib.legend.Legend at 0x7fe7c0974a90>"
      ]
     },
     "execution_count": 7,
     "metadata": {},
     "output_type": "execute_result"
    },
    {
     "data": {
      "image/png": "[encoded data removed]",
      "text/plain": [
       "<Figure size 864x432 with 1 Axes>"
      ]
     },
     "metadata": {
      "needs_background": "light"
     },
     "output_type": "display_data"
    }
   ],
   "source": [
    "plt.hist(B_MeanDiff4, label = 'Delta', density = True)\n",
    "plt.hist(B_MeanDiff3, label = 'True', density = True)\n",
    "#plt.hist(B_MeanDiff2, label = 'Parametric', density = True)\n",
    "#plt.hist(B_MeanDiff, label = 'Nonparametric', density = True)\n",
    "plt.legend()"
   ]
  },
  {
   "cell_type": "code",
   "execution_count": 8,
   "id": "60d553be-995b-4ec3-ace7-ca43e5ea4c29",
   "metadata": {
    "pycharm": {
     "name": "#%%\n"
    }
   },
   "outputs": [
    {
     "data": {
      "text/plain": [
       "<matplotlib.legend.Legend at 0x7fe7c090edf0>"
      ]
     },
     "execution_count": 8,
     "metadata": {},
     "output_type": "execute_result"
    },
    {
     "data": {
      "image/png": "[encoded data removed]",
      "text/plain": [
       "<Figure size 864x432 with 1 Axes>"
      ]
     },
     "metadata": {
      "needs_background": "light"
     },
     "output_type": "display_data"
    }
   ],
   "source": [
    "#plt.hist(B_MeanDiff4, label = 'Delta', density = True)\n",
    "plt.hist(B_MeanDiff3, label = 'True', density = True)\n",
    "plt.hist(B_MeanDiff2, label = 'Parametric', density = True)\n",
    "#plt.hist(B_MeanDiff, label = 'Nonparametric', density = True)\n",
    "plt.legend()"
   ]
  },
  {
   "cell_type": "code",
   "execution_count": 9,
   "id": "292579e0-0dc8-4fa6-a851-9c1299b3e4a6",
   "metadata": {
    "pycharm": {
     "name": "#%%\n"
    }
   },
   "outputs": [
    {
     "data": {
      "text/plain": [
       "<matplotlib.legend.Legend at 0x7fe7c0826e80>"
      ]
     },
     "execution_count": 9,
     "metadata": {},
     "output_type": "execute_result"
    },
    {
     "data": {
      "image/png": "[encoded data removed]",
      "text/plain": [
       "<Figure size 864x432 with 1 Axes>"
      ]
     },
     "metadata": {
      "needs_background": "light"
     },
     "output_type": "display_data"
    }
   ],
   "source": [
    "#plt.hist(B_MeanDiff4, label = 'Delta', density = True)\n",
    "plt.hist(B_MeanDiff3, label = 'True', density = True)\n",
    "#plt.hist(B_MeanDiff2, label = 'Parametric', density = True)\n",
    "plt.hist(B_MeanDiff, label = 'Nonparametric', density = True)\n",
    "plt.legend()"
   ]
  },
  {
   "cell_type": "markdown",
   "id": "245f49e3-c696-4326-aeba-ca8bd1ae6b55",
   "metadata": {
    "pycharm": {
     "name": "#%% md\n"
    }
   },
   "source": [
    "Among the three methods, it appears as if the nonparametric approach is the closest approximation to the true distribution"
   ]
  },
  {
   "cell_type": "markdown",
   "id": "43e52915-bdb1-4d69-8460-e39970458685",
   "metadata": {
    "pycharm": {
     "name": "#%% md\n"
    }
   },
   "source": [
    "# Problem 5"
   ]
  },
  {
   "cell_type": "markdown",
   "id": "9cacb6eb-9676-4c82-940e-d2784e027e04",
   "metadata": {
    "pycharm": {
     "name": "#%% md\n"
    }
   },
   "source": [
    "## 5b"
   ]
  },
  {
   "cell_type": "code",
   "execution_count": 10,
   "id": "cf916913-ae11-463c-84d8-f96067260285",
   "metadata": {
    "pycharm": {
     "name": "#%%\n"
    }
   },
   "outputs": [
    {
     "data": {
      "text/plain": [
       "0.05"
      ]
     },
     "execution_count": 10,
     "metadata": {},
     "output_type": "execute_result"
    }
   ],
   "source": [
    "np.random.seed(100)\n",
    "\n",
    "lambda0 = 1\n",
    "n = 20\n",
    "alpha = 0.05\n",
    "\n",
    "B = 1000\n",
    "B_MeanDiff = np.zeros(B)\n",
    "\n",
    "for i in range(B):\n",
    "    x = np.random.poisson(lam = lambda0, size=n)\n",
    "    lambdahat = np.mean(x)\n",
    "    W = (lambdahat - lambda0) / np.sqrt(lambdahat/n)\n",
    "    B_MeanDiff[i] = chi2.sf(W**2, df=1)\n",
    "    \n",
    "np.mean(B_MeanDiff < 0.05)"
   ]
  },
  {
   "cell_type": "markdown",
   "id": "62a61cce-b379-430b-a5d5-131cc3da6be1",
   "metadata": {
    "pycharm": {
     "name": "#%% md\n"
    }
   },
   "source": [
    "## 5d"
   ]
  },
  {
   "cell_type": "code",
   "execution_count": 11,
   "id": "a38f476d-2109-491f-a8f9-b2bffff13275",
   "metadata": {
    "pycharm": {
     "name": "#%%\n"
    }
   },
   "outputs": [
    {
     "data": {
      "text/plain": [
       "0.07"
      ]
     },
     "execution_count": 11,
     "metadata": {},
     "output_type": "execute_result"
    }
   ],
   "source": [
    "np.random.seed(100)\n",
    "\n",
    "lambda0 = 1.5\n",
    "n = 20\n",
    "alpha = 0.05\n",
    "\n",
    "B = 1000\n",
    "B_MeanDiff = np.zeros(B)\n",
    "\n",
    "for i in range(B):\n",
    "    x = np.random.poisson(lam = lambda0, size=n)\n",
    "    lambdahat = np.mean(x)\n",
    "    W = (lambdahat - lambda0) / np.sqrt(lambdahat/n)\n",
    "    B_MeanDiff[i] = chi2.sf(W**2, df=1)\n",
    "    \n",
    "np.mean(B_MeanDiff < 0.05)"
   ]
  }
 ],
 "metadata": {
  "kernelspec": {
   "display_name": "Python 3",
   "language": "python",
   "name": "python3"
  },
  "language_info": {
   "codemirror_mode": {
    "name": "ipython",
    "version": 3
   },
   "file_extension": ".py",
   "mimetype": "text/x-python",
   "name": "python",
   "nbconvert_exporter": "python",
   "pygments_lexer": "ipython3",
   "version": "3.8.8"
  }
 },
 "nbformat": 4,
 "nbformat_minor": 5
}