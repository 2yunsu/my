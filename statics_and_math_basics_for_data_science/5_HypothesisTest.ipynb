{
 "cells": [
  {
   "cell_type": "code",
   "execution_count": 1,
   "metadata": {
    "ExecuteTime": {
     "end_time": "2021-01-28T23:05:33.590325Z",
     "start_time": "2021-01-28T23:05:33.580583Z"
    }
   },
   "outputs": [],
   "source": [
    "import numpy as np\n",
    "import pandas as pd\n",
    "import matplotlib.pyplot as plt\n",
    "from scipy.stats import chi2\n",
    "%matplotlib inline\n",
    "plt.rcParams[\"figure.figsize\"] = (12,8) # set figure size"
   ]
  },
  {
   "cell_type": "markdown",
   "metadata": {},
   "source": [
    "# Simulation data\n",
    "We carry out simulation studies to investigate the behaviors of p-values. Consider a two group test, where each group has n=100 samples. Each sample in the first group follows N(0,1) and each sample in the second group follows N(μ, 1). The following code simulate one dataset with μ = 0.5"
   ]
  },
  {
   "cell_type": "code",
   "execution_count": 25,
   "metadata": {
    "ExecuteTime": {
     "end_time": "2021-01-29T07:04:15.424905Z",
     "start_time": "2021-01-29T07:04:15.407657Z"
    }
   },
   "outputs": [
    {
     "data": {
      "text/plain": [
       "0.00022421948789885058"
      ]
     },
     "execution_count": 25,
     "metadata": {},
     "output_type": "execute_result"
    }
   ],
   "source": [
    "np.random.seed(100)\n",
    "def WaldTest(x1, x2):\n",
    "    n1, n2 = len(x1), len(x2)\n",
    "    Mu1, Mu2 = np.mean(x1), np.mean(x2)\n",
    "    std1, std2 = np.std(x1, ddof=1), np.std(x2, ddof=1)\n",
    "    Theta = Mu2 - Mu1\n",
    "    SE = np.sqrt(std1**2/n1 + std2**2/n2)\n",
    "    W = Theta/SE\n",
    "    Pvalue = chi2.sf(W**2, df=1)\n",
    "    return Pvalue\n",
    "\n",
    "mu = 0.5\n",
    "n = 100\n",
    "x1 = np.random.normal(0, 1, size=n)\n",
    "x2 = np.random.normal(mu, 1, size=n)\n",
    "WaldTest(x1, x2)"
   ]
  },
  {
   "cell_type": "markdown",
   "metadata": {},
   "source": [
    "## P-values under the null hypothesis\n",
    "Now we generate 1000 datasets with μ = 0 and check the distribution of p-values. How does it look like?"
   ]
  },
  {
   "cell_type": "code",
   "execution_count": 26,
   "metadata": {
    "ExecuteTime": {
     "end_time": "2021-01-29T06:35:01.559744Z",
     "start_time": "2021-01-29T06:35:00.906073Z"
    }
   },
   "outputs": [
    {
     "data": {
      "image/png": "[encoded data removed]",
      "text/plain": [
       "<Figure size 432x288 with 1 Axes>"
      ]
     },
     "metadata": {
      "needs_background": "light"
     },
     "output_type": "display_data"
    }
   ],
   "source": [
    "mu = 0\n",
    "nSIM = 1000\n",
    "pval_all = np.zeros(nSIM)\n",
    "for i in range(nSIM):\n",
    "    x1 = np.random.normal(0, 1, size=n)\n",
    "    x2 = np.random.normal(mu, 1, size=n)\n",
    "    pval_all[i] = WaldTest(x1, x2)\n",
    "    \n",
    "plt.hist(pval_all, bins=10)\n",
    "plt.xlabel('pval_all')\n",
    "plt.ylabel('Frequency');"
   ]
  },
  {
   "cell_type": "markdown",
   "metadata": {},
   "source": [
    "## Type I error rates\n",
    "If we use α = 0.05 as a cutoff, how many p-valus are significant?  \n",
    "How about changing it to α = 0.05/10, 0.05/1000?"
   ]
  },
  {
   "cell_type": "code",
   "execution_count": 27,
   "metadata": {
    "ExecuteTime": {
     "end_time": "2021-01-29T06:35:07.834901Z",
     "start_time": "2021-01-29T06:35:07.813407Z"
    }
   },
   "outputs": [
    {
     "name": "stdout",
     "output_type": "stream",
     "text": [
      "50\n",
      "8\n",
      "0\n"
     ]
    }
   ],
   "source": [
    "print(sum(pval_all < 0.05))\n",
    "print(sum(pval_all < 0.05/10))\n",
    "print(sum(pval_all < 0.05/1000))"
   ]
  },
  {
   "cell_type": "markdown",
   "metadata": {},
   "source": [
    "## Power\n",
    "Researchers decide to use α = 0.05/1000, the bonferroni corrected alpha of testing 1000 hypothesis, as the cutoff. Now researchers want to check how the power changes by μ. \n",
    "First run the simulation with μ = 0.4 and obtain the power. Also check the p-value distribution.\n"
   ]
  },
  {
   "cell_type": "code",
   "execution_count": 28,
   "metadata": {},
   "outputs": [
    {
     "name": "stdout",
     "output_type": "stream",
     "text": [
      "Power: 0.123 \n",
      "\n"
     ]
    },
    {
     "data": {
      "image/png": "[encoded data removed]",
      "text/plain": [
       "<Figure size 432x288 with 1 Axes>"
      ]
     },
     "metadata": {
      "needs_background": "light"
     },
     "output_type": "display_data"
    }
   ],
   "source": [
    "mu = 0.4\n",
    "nSIM = 1000\n",
    "pval_all = np.zeros(nSIM)\n",
    "for i in range(nSIM):\n",
    "    x1 = np.random.normal(0, 1, size=n)\n",
    "    x2 = np.random.normal(mu, 1, size=n)\n",
    "    pval_all[i] = WaldTest(x1, x2)\n",
    "\n",
    "print(\"Power:\", np.mean(pval_all < 0.05/1000), \"\\n\")\n",
    "    \n",
    "plt.hist(pval_all, bins=10)\n",
    "plt.xlabel('pval_all')\n",
    "plt.ylabel('Frequency');"
   ]
  },
  {
   "cell_type": "markdown",
   "metadata": {},
   "source": [
    "### Now carry out simulation studies with μ = 0, 0.1, ..., 1"
   ]
  },
  {
   "cell_type": "code",
   "execution_count": 29,
   "metadata": {
    "ExecuteTime": {
     "end_time": "2021-01-28T23:36:49.469117Z",
     "start_time": "2021-01-28T23:36:47.419321Z"
    }
   },
   "outputs": [
    {
     "data": {
      "image/png": "[encoded data removed]",
      "text/plain": [
       "<Figure size 432x288 with 1 Axes>"
      ]
     },
     "metadata": {
      "needs_background": "light"
     },
     "output_type": "display_data"
    }
   ],
   "source": [
    "mu_candidate = np.arange(11)/10\n",
    "nSIM = 1000\n",
    "cutoff = 0.05/1000\n",
    "Power_a = np.zeros(11)\n",
    "\n",
    "for j in range(11):\n",
    "    pval_all = np.zeros(nSIM)\n",
    "    mu = mu_candidate[j]\n",
    "    for i in range(nSIM):\n",
    "        x1 = np.random.normal(0, 1, size=n)\n",
    "        x2 = np.random.normal(mu, 1, size=n)\n",
    "        pval_all[i] = WaldTest(x1, x2)\n",
    "    Power_a[j] = np.mean(pval_all < cutoff)\n",
    "\n",
    "plt.plot(mu_candidate, Power_a, 'bo-')\n",
    "plt.xlabel('mu_candidate')\n",
    "plt.ylabel('Power_a');"
   ]
  },
  {
   "cell_type": "markdown",
   "metadata": {},
   "source": [
    "# Permutation test\n",
    "Permutation test is a popular non-parametric test that does not rely on distributional\n",
    "assumption or asymptotics. We use the coris data to test whether obesity is differed by\n",
    "CHD, with B=100000."
   ]
  },
  {
   "cell_type": "code",
   "execution_count": 36,
   "metadata": {},
   "outputs": [
    {
     "data": {
      "text/plain": [
       "3.999960000399996e-05"
      ]
     },
     "execution_count": 36,
     "metadata": {},
     "output_type": "execute_result"
    }
   ],
   "source": [
    "\n",
    "df = pd.read_csv('coris.txt', sep=',', skiprows=[0, 1])\n",
    "sbp0 = df[df['chd'] == 0]['sbp']\n",
    "sbp1 = df[df['chd'] == 1]['sbp']\n",
    "\n",
    "Mu0 = np.mean(sbp0)\n",
    "Mu1 = np.mean(sbp1)\n",
    "n0 = len(sbp0)\n",
    "n1 = len(sbp1)\n",
    "\n",
    "sbp = np.hstack([sbp0, sbp1])\n",
    "T_org = Mu1 - Mu0\n",
    "\n",
    "\n",
    "\n",
    "B = 100000\n",
    "T_permu = np.zeros(B)\n",
    "for i in range(B):\n",
    "    idx_1 = np.random.choice(n0+n1, size=n1, replace=False)\n",
    "    mu1 = np.mean(sbp[idx_1])\n",
    "    mu0 = np.mean(sbp[-idx_1])\n",
    "    T_permu[i] = mu1 - mu0\n",
    "\n",
    "pval = (np.sum(T_permu**2 >= T_org**2) + 1)/(B+1)\n",
    "pval\n"
   ]
  },
  {
   "cell_type": "code",
   "execution_count": 37,
   "metadata": {
    "ExecuteTime": {
     "end_time": "2021-01-29T07:17:26.343332Z",
     "start_time": "2021-01-29T07:17:26.334042Z"
    }
   },
   "outputs": [
    {
     "data": {
      "text/plain": [
       "0.00010890948076477764"
      ]
     },
     "execution_count": 37,
     "metadata": {},
     "output_type": "execute_result"
    }
   ],
   "source": [
    "WaldTest(sbp0, sbp1)"
   ]
  },
  {
   "cell_type": "code",
   "execution_count": null,
   "metadata": {},
   "outputs": [],
   "source": []
  }
 ],
 "metadata": {
  "kernelspec": {
   "display_name": "Python 3",
   "language": "python",
   "name": "python3"
  },
  "language_info": {
   "codemirror_mode": {
    "name": "ipython",
    "version": 3
   },
   "file_extension": ".py",
   "mimetype": "text/x-python",
   "name": "python",
   "nbconvert_exporter": "python",
   "pygments_lexer": "ipython3",
   "version": "3.8.8"
  },
  "varInspector": {
   "cols": {
    "lenName": 16,
    "lenType": 16,
    "lenVar": 40
   },
   "kernels_config": {
    "python": {
     "delete_cmd_postfix": "",
     "delete_cmd_prefix": "del ",
     "library": "var_list.py",
     "varRefreshCmd": "print(var_dic_list())"
    },
    "r": {
     "delete_cmd_postfix": ") ",
     "delete_cmd_prefix": "rm(",
     "library": "var_list.r",
     "varRefreshCmd": "cat(var_dic_list()) "
    }
   },
   "types_to_exclude": [
    "module",
    "function",
    "builtin_function_or_method",
    "instance",
    "_Feature"
   ],
   "window_display": false
  }
 },
 "nbformat": 4,
 "nbformat_minor": 4
}
