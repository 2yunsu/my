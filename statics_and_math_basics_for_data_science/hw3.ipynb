{
 "cells": [
  {
   "cell_type": "code",
   "execution_count": 1,
   "metadata": {},
   "outputs": [],
   "source": [
    "import numpy as np\n",
    "import math\n",
    "from scipy import stats\n",
    "import matplotlib.pyplot as plt"
   ]
  },
  {
   "cell_type": "markdown",
   "metadata": {},
   "source": [
    "# Problem 1 Part c"
   ]
  },
  {
   "cell_type": "code",
   "execution_count": 2,
   "metadata": {},
   "outputs": [
    {
     "name": "stdout",
     "output_type": "stream",
     "text": [
      "The Correlation between X and Y is 0.01789807011679834\n"
     ]
    },
    {
     "data": {
      "image/png": "[encoded data removed]",
      "text/plain": [
       "<Figure size 432x288 with 1 Axes>"
      ]
     },
     "metadata": {
      "needs_background": "light"
     },
     "output_type": "display_data"
    }
   ],
   "source": [
    "# Set Random Seed to get same result\n",
    "np.random.seed(100)\n",
    "\n",
    "# Initialize X and Y\n",
    "X = []\n",
    "Y = []\n",
    "\n",
    "\n",
    "for i in range(1000):\n",
    "    N = np.random.poisson(lam = 10)\n",
    "    result = np.random.binomial(1, 0.3, N)\n",
    "    # Get unique value and its counts\n",
    "    #values, counts= np.unique(result, return_counts=True)\n",
    "    #X.append(counts[1])\n",
    "    #Y.append(counts[0])\n",
    "    # Above did not work because there are cases where only one value is present\n",
    "    X.append(list(result).count(1))\n",
    "    Y.append(list(result).count(0))\n",
    "\n",
    "plt.scatter(X,Y)\n",
    "correlation, p_value =  stats.pearsonr(X,Y)\n",
    "print(\"The Correlation between X and Y is\", correlation)\n"
   ]
  },
  {
   "cell_type": "markdown",
   "metadata": {},
   "source": [
    "The graph looks somewhat like a density curve (It is not density curve) with each dots representing Number of heads vs Number of tails. The minimum number of heads was 0 with max being 10. Where the minimum number of tails was 0 with max being a value greater than 15. "
   ]
  },
  {
   "cell_type": "markdown",
   "metadata": {},
   "source": [
    "# Problem 2 Part b"
   ]
  },
  {
   "cell_type": "markdown",
   "metadata": {},
   "source": [
    "Before we start, we will get value obtain from part a"
   ]
  },
  {
   "cell_type": "code",
   "execution_count": 3,
   "metadata": {},
   "outputs": [
    {
     "name": "stdout",
     "output_type": "stream",
     "text": [
      "The value obtained form part 2a is $1734723.48\n"
     ]
    }
   ],
   "source": [
    "c = 20000\n",
    "n = 20\n",
    "val2a = c * (5/4) ** n\n",
    "print(\"The value obtained form part 2a is $%.2f\" % val2a)"
   ]
  },
  {
   "cell_type": "code",
   "execution_count": 4,
   "metadata": {},
   "outputs": [
    {
     "name": "stdout",
     "output_type": "stream",
     "text": [
      "The value obtained form simulation study is $694632.57\n"
     ]
    }
   ],
   "source": [
    "# Set Random Seed to get same result\n",
    "np.random.seed(0)\n",
    "\n",
    "# Initialize X2\n",
    "X2 = []\n",
    "\n",
    "for i in range(1000):\n",
    "    cnew = c\n",
    "    for j in range(n):\n",
    "        result = int(np.random.binomial(1, 0.5, 1))\n",
    "        if result == 1:\n",
    "            cnew = cnew * 2\n",
    "        else:\n",
    "            cnew = cnew / 2\n",
    "    X2.append(cnew)\n",
    "\n",
    "print(\"The value obtained form simulation study is $%.2f\" % np.mean(X2))\n"
   ]
  },
  {
   "cell_type": "markdown",
   "metadata": {},
   "source": [
    "From above result, we can see that the result is different. As a result, we have continued to see if the result will get close enought to actual value. "
   ]
  },
  {
   "cell_type": "code",
   "execution_count": 5,
   "metadata": {},
   "outputs": [
    {
     "name": "stdout",
     "output_type": "stream",
     "text": [
      "The value obtained form simulation study is $1732746.40\n"
     ]
    }
   ],
   "source": [
    "# Set Random Seed to get same result\n",
    "np.random.seed(100)\n",
    "\n",
    "# Initialize X2\n",
    "X2 = []\n",
    "\n",
    "for i in range(100000):\n",
    "    cnew = c\n",
    "    for j in range(n):\n",
    "        result = int(np.random.binomial(1, 0.5, 1))\n",
    "        if result == 1:\n",
    "            cnew = cnew * 2\n",
    "        else:\n",
    "            cnew = cnew / 2\n",
    "    X2.append(cnew)\n",
    "\n",
    "print(\"The value obtained form simulation study is $%.2f\" % np.mean(X2))\n"
   ]
  },
  {
   "cell_type": "markdown",
   "metadata": {},
   "source": [
    "From above result, we can see that as we increase the number of simulation, we get close to actual result"
   ]
  },
  {
   "cell_type": "markdown",
   "metadata": {},
   "source": [
    "# Problem 3 Part b"
   ]
  },
  {
   "cell_type": "code",
   "execution_count": 6,
   "metadata": {},
   "outputs": [
    {
     "data": {
      "text/plain": [
       "<matplotlib.collections.PathCollection at 0x24990722070>"
      ]
     },
     "execution_count": 6,
     "metadata": {},
     "output_type": "execute_result"
    },
    {
     "data": {
      "image/png": "[encoded data removed]",
      "text/plain": [
       "<Figure size 432x288 with 1 Axes>"
      ]
     },
     "metadata": {
      "needs_background": "light"
     },
     "output_type": "display_data"
    }
   ],
   "source": [
    "# Set Random Seed to get same result\n",
    "np.random.seed(100)\n",
    "\n",
    "n = 10000\n",
    "\n",
    "def getX():\n",
    "    # Initialize n\n",
    "    n = 10000\n",
    "    # Run Binomial n times to get Y\n",
    "    result = np.random.binomial(1, 0.5, n)\n",
    "    # Convert to 1 and -1\n",
    "    result = 2 * result - 1\n",
    "    # Get cumulative sum to get Xn\n",
    "    Xn = np.cumsum(result)\n",
    "    return Xn\n",
    "\n",
    "X= np.linspace(0,n,n)\n",
    "\n",
    "X1 = getX()\n",
    "X2 = getX()\n",
    "X3 = getX()\n",
    "X4 = getX()\n",
    "\n",
    "\n",
    "plt.scatter(X, X1)\n",
    "plt.scatter(X, X2)\n",
    "plt.scatter(X, X3)\n",
    "plt.scatter(X, X4)"
   ]
  },
  {
   "cell_type": "markdown",
   "metadata": {},
   "source": [
    "As we know from part a, we have mean 0 but variance being variance of n. As a result, we can see that as n increases, the graph may look very different because of high varaince. "
   ]
  },
  {
   "cell_type": "markdown",
   "metadata": {},
   "source": [
    "# Problem 5"
   ]
  },
  {
   "cell_type": "markdown",
   "metadata": {},
   "source": [
    "One can use the original code obtained from class. \n",
    "\n",
    "Check Lecture 10-18 Video for more information"
   ]
  },
  {
   "cell_type": "code",
   "execution_count": 7,
   "metadata": {},
   "outputs": [
    {
     "data": {
      "image/png": "[encoded data removed]",
      "text/plain": [
       "<Figure size 432x288 with 1 Axes>"
      ]
     },
     "metadata": {
      "needs_background": "light"
     },
     "output_type": "display_data"
    }
   ],
   "source": [
    "def Get_Trajectory():\n",
    "    n_current_case = 10\n",
    "    n_case_trajectory = np.zeros(11)\n",
    "    n_case_trajectory[0] = 10\n",
    "\n",
    "    for i in range(10):\n",
    "        n_contact = np.random.poisson(10, n_current_case)\n",
    "        n_new_case = np.random.binomial(n_contact, 0.2)\n",
    "        n_current_case = np.sum(n_new_case)\n",
    "        n_case_trajectory[i+1] = n_current_case\n",
    "\n",
    "    return n_case_trajectory\n",
    "\n",
    "nsim = 100\n",
    "out_all = []\n",
    "for i in range(nsim):\n",
    "    out_all.append(Get_Trajectory())\n",
    "    \n",
    "outall = np.array(out_all)\n",
    "plt.boxplot(outall);"
   ]
  },
  {
   "cell_type": "markdown",
   "metadata": {},
   "source": [
    "## Part a"
   ]
  },
  {
   "cell_type": "code",
   "execution_count": 14,
   "metadata": {},
   "outputs": [
    {
     "data": {
      "text/plain": [
       "Text(0, 0.5, 'n_case_trajectory')"
      ]
     },
     "execution_count": 14,
     "metadata": {},
     "output_type": "execute_result"
    },
    {
     "data": {
      "image/png": "[encoded data removed]",
      "text/plain": [
       "<Figure size 432x288 with 1 Axes>"
      ]
     },
     "metadata": {
      "needs_background": "light"
     },
     "output_type": "display_data"
    }
   ],
   "source": [
    "# Set Random Seed to get same result\n",
    "np.random.seed(100)\n",
    "\n",
    "# Modified from code obtained from class\n",
    "def Get_Trajectory():\n",
    "    n_current_case = 5\n",
    "    n_case_trajectory = np.zeros(21)\n",
    "    n_case_trajectory[0] = 10\n",
    "\n",
    "    for i in range(20):\n",
    "        n_contact = np.random.poisson(10, n_current_case)\n",
    "        n_new_case = np.random.binomial(n_contact, 0.2)\n",
    "        n_current_case = np.sum(n_new_case)\n",
    "        n_case_trajectory[i+1] = n_current_case\n",
    "\n",
    "    return n_case_trajectory\n",
    "\n",
    "nsim = 100\n",
    "out_all = []\n",
    "for i in range(nsim):\n",
    "    out_all.append(Get_Trajectory())\n",
    "    \n",
    "outall = np.array(out_all)\n",
    "plt.boxplot(outall);\n",
    "plt.xlabel('Index')\n",
    "plt.ylabel('n_case_trajectory')"
   ]
  },
  {
   "cell_type": "markdown",
   "metadata": {},
   "source": [
    "We can see that as n increases, the case of infection goes up.  By Day 50 (Index 11), the maximum case is bigger than 12000, with 3rd quartile being about 10,000 and mean of 5000.  By Day 100 (Index 21), the maximum case is bigger tha 1 E7 be max and 5 E6 to be the mean value.\n",
    "\n",
    "Note that by nature, peak will be the maximum number of day in given sequence. In the case above, for 100 days, the peak will be the day 100 (If did 150 days, day 150 will be the peak)"
   ]
  },
  {
   "cell_type": "markdown",
   "metadata": {},
   "source": [
    "## Part b"
   ]
  },
  {
   "cell_type": "code",
   "execution_count": 13,
   "metadata": {},
   "outputs": [
    {
     "data": {
      "text/plain": [
       "Text(0, 0.5, 'n_case_trajectory')"
      ]
     },
     "execution_count": 13,
     "metadata": {},
     "output_type": "execute_result"
    },
    {
     "data": {
      "image/png": "[encoded data removed]",
      "text/plain": [
       "<Figure size 432x288 with 1 Axes>"
      ]
     },
     "metadata": {
      "needs_background": "light"
     },
     "output_type": "display_data"
    }
   ],
   "source": [
    "# Set Random Seed to get same result\n",
    "np.random.seed(100)\n",
    "\n",
    "# Modified from code obtained from class\n",
    "def Get_Trajectory():\n",
    "    n_current_case = 5\n",
    "    n_case_trajectory = np.zeros(21)\n",
    "    n_case_trajectory[0] = 10\n",
    "\n",
    "    for i in range(10):\n",
    "        n_contact = np.random.poisson(10, n_current_case)\n",
    "        n_new_case = np.random.binomial(n_contact, 0.2)\n",
    "        n_current_case = np.sum(n_new_case)\n",
    "        n_case_trajectory[i+1] = n_current_case\n",
    "    \n",
    "    for i in range(10,20):\n",
    "        n_contact = np.random.poisson(10, n_current_case)\n",
    "        n_new_case = np.random.binomial(n_contact, 0.14)\n",
    "        n_current_case = np.sum(n_new_case)\n",
    "        n_case_trajectory[i+1] = n_current_case\n",
    "\n",
    "    return n_case_trajectory\n",
    "\n",
    "nsim = 100\n",
    "out_all = []\n",
    "for i in range(nsim):\n",
    "    out_all.append(Get_Trajectory())\n",
    "    \n",
    "outall = np.array(out_all)\n",
    "plt.boxplot(outall);\n",
    "plt.xlabel('Index')\n",
    "plt.ylabel('n_case_trajectory')"
   ]
  },
  {
   "cell_type": "markdown",
   "metadata": {},
   "source": [
    "Now, as realized before, for 100 days, the case increase as day increase, and the peak will be the max day. However, we can see that curve did flatten compared to part b"
   ]
  },
  {
   "cell_type": "code",
   "execution_count": 15,
   "metadata": {},
   "outputs": [
    {
     "data": {
      "text/plain": [
       "Text(0, 0.5, 'n_case_trajectory')"
      ]
     },
     "execution_count": 15,
     "metadata": {},
     "output_type": "execute_result"
    },
    {
     "data": {
      "image/png": "[encoded data removed]",
      "text/plain": [
       "<Figure size 432x288 with 1 Axes>"
      ]
     },
     "metadata": {
      "needs_background": "light"
     },
     "output_type": "display_data"
    }
   ],
   "source": [
    "# Set Random Seed to get same result\n",
    "np.random.seed(100)\n",
    "\n",
    "# Modified from code obtained from class\n",
    "def Get_Trajectory():\n",
    "    n_current_case = 5\n",
    "    n_case_trajectory = np.zeros(21)\n",
    "    n_case_trajectory[0] = 10\n",
    "\n",
    "    for i in range(10):\n",
    "        n_contact = np.random.poisson(10, n_current_case)\n",
    "        n_new_case = np.random.binomial(n_contact, 0.2)\n",
    "        n_current_case = np.sum(n_new_case)\n",
    "        n_case_trajectory[i+1] = n_current_case\n",
    "    \n",
    "    for i in range(10,12):\n",
    "        n_contact = np.random.poisson(10, n_current_case)\n",
    "        n_new_case = np.random.binomial(n_contact, 0.14)\n",
    "        n_current_case = np.sum(n_new_case)\n",
    "        n_case_trajectory[i+1] = n_current_case\n",
    "    \n",
    "    for i in range(12,20):\n",
    "        n_contact = np.random.poisson(3, n_current_case)\n",
    "        n_new_case = np.random.binomial(n_contact, 0.14)\n",
    "        n_current_case = np.sum(n_new_case)\n",
    "        n_case_trajectory[i+1] = n_current_case\n",
    "\n",
    "    return n_case_trajectory\n",
    "\n",
    "nsim = 100\n",
    "out_all = []\n",
    "for i in range(nsim):\n",
    "    out_all.append(Get_Trajectory())\n",
    "    \n",
    "outall = np.array(out_all)\n",
    "plt.boxplot(outall);\n",
    "plt.xlabel('Index')\n",
    "plt.ylabel('n_case_trajectory')"
   ]
  },
  {
   "cell_type": "markdown",
   "metadata": {},
   "source": [
    "From above graph, we can see that the curve did flatten out. We can also notice that now the peak is located at index 13 (60 days)."
   ]
  },
  {
   "cell_type": "markdown",
   "metadata": {},
   "source": [
    "## Part E"
   ]
  },
  {
   "cell_type": "markdown",
   "metadata": {},
   "source": [
    "There can be many possible answer for this question. One way is to change the condition that the one-time unit condition should be removed because there may be cases where one may be infected but decides to wonder around and spreading the disease at faster rate. "
   ]
  }
 ],
 "metadata": {
  "kernelspec": {
   "display_name": "Python 3.8.8 ('base')",
   "language": "python",
   "name": "python3"
  },
  "language_info": {
   "codemirror_mode": {
    "name": "ipython",
    "version": 3
   },
   "file_extension": ".py",
   "mimetype": "text/x-python",
   "name": "python",
   "nbconvert_exporter": "python",
   "pygments_lexer": "ipython3",
   "version": "3.8.8"
  },
  "orig_nbformat": 4,
  "vscode": {
   "interpreter": {
    "hash": "57bc2b6ce032b5f0e93daa91901b7ea38a856826ef43aa9e95b6d3999f5310df"
   }
  }
 },
 "nbformat": 4,
 "nbformat_minor": 2
}
